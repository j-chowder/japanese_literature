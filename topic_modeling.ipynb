{
 "cells": [
  {
   "cell_type": "code",
   "execution_count": 1,
   "id": "ce7df8c7",
   "metadata": {},
   "outputs": [
    {
     "name": "stderr",
     "output_type": "stream",
     "text": [
      "d:\\PythonDevelopment\\jap_lit\\env\\Lib\\site-packages\\tqdm\\auto.py:21: TqdmWarning: IProgress not found. Please update jupyter and ipywidgets. See https://ipywidgets.readthedocs.io/en/stable/user_install.html\n",
      "  from .autonotebook import tqdm as notebook_tqdm\n"
     ]
    }
   ],
   "source": [
    "import pandas as pd\n",
    "import numpy as np\n",
    "\n",
    "import unicodedata\n",
    "import re\n",
    "from bertopic import BERTopic\n",
    "from sentence_transformers import SentenceTransformer\n",
    "from umap import UMAP\n",
    "from hdbscan import HDBSCAN\n",
    "import requests\n",
    "from fugashi import Tagger\n",
    "from sklearn.feature_extraction.text import CountVectorizer\n",
    "from bertopic.vectorizers import ClassTfidfTransformer\n",
    "from bertopic.representation import KeyBERTInspired, MaximalMarginalRelevance, PartOfSpeech"
   ]
  },
  {
   "cell_type": "code",
   "execution_count": 46,
   "id": "e38505a0",
   "metadata": {},
   "outputs": [
    {
     "data": {
      "text/html": [
       "<div>\n",
       "<style scoped>\n",
       "    .dataframe tbody tr th:only-of-type {\n",
       "        vertical-align: middle;\n",
       "    }\n",
       "\n",
       "    .dataframe tbody tr th {\n",
       "        vertical-align: top;\n",
       "    }\n",
       "\n",
       "    .dataframe thead th {\n",
       "        text-align: right;\n",
       "    }\n",
       "</style>\n",
       "<table border=\"1\" class=\"dataframe\">\n",
       "  <thead>\n",
       "    <tr style=\"text-align: right;\">\n",
       "      <th></th>\n",
       "      <th>id</th>\n",
       "      <th>char_count</th>\n",
       "      <th>text</th>\n",
       "    </tr>\n",
       "  </thead>\n",
       "  <tbody>\n",
       "    <tr>\n",
       "      <th>0</th>\n",
       "      <td>54333</td>\n",
       "      <td>80156.0</td>\n",
       "      <td>著者フレデリック・アークム専門化学者、ヨーロッパの主な芸術・科学アカデミーおよび学会の会員緒...</td>\n",
       "    </tr>\n",
       "    <tr>\n",
       "      <th>1</th>\n",
       "      <td>46340</td>\n",
       "      <td>76104.0</td>\n",
       "      <td>［＃改丁］序偉人の伝記というと、ナポレオンとかアレキサンドロスとか、グラッドストーンというよ...</td>\n",
       "    </tr>\n",
       "    <tr>\n",
       "      <th>2</th>\n",
       "      <td>46511</td>\n",
       "      <td>2975.0</td>\n",
       "      <td>人間が石にたよるやうになつて、もうよほど久しいことであるのに、まだ根気よくそれをやつてゐる。...</td>\n",
       "    </tr>\n",
       "    <tr>\n",
       "      <th>3</th>\n",
       "      <td>57975</td>\n",
       "      <td>2516.0</td>\n",
       "      <td>既に美育部を持つてゐる早稻田中學校が新に音樂會を興してその發會式をやらうとする其の日から、又...</td>\n",
       "    </tr>\n",
       "    <tr>\n",
       "      <th>4</th>\n",
       "      <td>57976</td>\n",
       "      <td>585.0</td>\n",
       "      <td>古い日記や手紙などを、みんな燒いてしまつたので、こまかに時日をいへないが、まだ若い中學教師で...</td>\n",
       "    </tr>\n",
       "    <tr>\n",
       "      <th>...</th>\n",
       "      <td>...</td>\n",
       "      <td>...</td>\n",
       "      <td>...</td>\n",
       "    </tr>\n",
       "    <tr>\n",
       "      <th>17365</th>\n",
       "      <td>49911</td>\n",
       "      <td>4761.0</td>\n",
       "      <td>問題にしない時にはわかり切ったことと思われているものが、さて問題にしてみると実にわからなくな...</td>\n",
       "    </tr>\n",
       "    <tr>\n",
       "      <th>17366</th>\n",
       "      <td>55622</td>\n",
       "      <td>12400.0</td>\n",
       "      <td>夢の話をするのはあまり気のきいたことではない。確か痴人夢を説くという言葉があったはずだ。そう...</td>\n",
       "    </tr>\n",
       "    <tr>\n",
       "      <th>17367</th>\n",
       "      <td>49876</td>\n",
       "      <td>4655.0</td>\n",
       "      <td>自分は現代の画家中に岸田君ほど明らかな「成長」を示している人を知らない。誇張でなく岸田君は一...</td>\n",
       "    </tr>\n",
       "    <tr>\n",
       "      <th>17368</th>\n",
       "      <td>49913</td>\n",
       "      <td>12075.0</td>\n",
       "      <td>一荒漠たる秋の野に立つ。星は月の御座を囲み月は清らかに地の花を輝らす。花は紅と咲き黄と匂い紫...</td>\n",
       "    </tr>\n",
       "    <tr>\n",
       "      <th>17369</th>\n",
       "      <td>49914</td>\n",
       "      <td>4146.0</td>\n",
       "      <td>関東大震災の前数年の間、先輩たちにまじって露伴先生から俳諧の指導をうけたことがある。その時の...</td>\n",
       "    </tr>\n",
       "  </tbody>\n",
       "</table>\n",
       "<p>17370 rows × 3 columns</p>\n",
       "</div>"
      ],
      "text/plain": [
       "          id  char_count                                               text\n",
       "0      54333     80156.0  著者フレデリック・アークム専門化学者、ヨーロッパの主な芸術・科学アカデミーおよび学会の会員緒...\n",
       "1      46340     76104.0  ［＃改丁］序偉人の伝記というと、ナポレオンとかアレキサンドロスとか、グラッドストーンというよ...\n",
       "2      46511      2975.0  人間が石にたよるやうになつて、もうよほど久しいことであるのに、まだ根気よくそれをやつてゐる。...\n",
       "3      57975      2516.0  既に美育部を持つてゐる早稻田中學校が新に音樂會を興してその發會式をやらうとする其の日から、又...\n",
       "4      57976       585.0  古い日記や手紙などを、みんな燒いてしまつたので、こまかに時日をいへないが、まだ若い中學教師で...\n",
       "...      ...         ...                                                ...\n",
       "17365  49911      4761.0  問題にしない時にはわかり切ったことと思われているものが、さて問題にしてみると実にわからなくな...\n",
       "17366  55622     12400.0  夢の話をするのはあまり気のきいたことではない。確か痴人夢を説くという言葉があったはずだ。そう...\n",
       "17367  49876      4655.0  自分は現代の画家中に岸田君ほど明らかな「成長」を示している人を知らない。誇張でなく岸田君は一...\n",
       "17368  49913     12075.0  一荒漠たる秋の野に立つ。星は月の御座を囲み月は清らかに地の花を輝らす。花は紅と咲き黄と匂い紫...\n",
       "17369  49914      4146.0  関東大震災の前数年の間、先輩たちにまじって露伴先生から俳諧の指導をうけたことがある。その時の...\n",
       "\n",
       "[17370 rows x 3 columns]"
      ]
     },
     "execution_count": 46,
     "metadata": {},
     "output_type": "execute_result"
    }
   ],
   "source": [
    "df = pd.read_csv('./data/books_final.csv', usecols=['id', 'char_count', 'text'])\n",
    "\n",
    "df"
   ]
  },
  {
   "cell_type": "markdown",
   "id": "fb95e20b",
   "metadata": {},
   "source": [
    "#### Preprocessing"
   ]
  },
  {
   "cell_type": "code",
   "execution_count": 20,
   "id": "dfd667e4",
   "metadata": {},
   "outputs": [
    {
     "data": {
      "text/plain": [
       "count     17370.000000\n",
       "mean      13456.169315\n",
       "std       34426.686869\n",
       "min          14.000000\n",
       "25%        1531.250000\n",
       "50%        4314.000000\n",
       "75%       11550.500000\n",
       "max      823518.000000\n",
       "Name: char_count, dtype: float64"
      ]
     },
     "execution_count": 20,
     "metadata": {},
     "output_type": "execute_result"
    }
   ],
   "source": [
    "df['char_count'].describe()"
   ]
  },
  {
   "cell_type": "code",
   "execution_count": 12,
   "id": "baebe27b",
   "metadata": {},
   "outputs": [
    {
     "data": {
      "text/plain": [
       "406"
      ]
     },
     "execution_count": 12,
     "metadata": {},
     "output_type": "execute_result"
    }
   ],
   "source": [
    "len(df[df['char_count'] < 100])"
   ]
  },
  {
   "cell_type": "code",
   "execution_count": 47,
   "id": "92327214",
   "metadata": {},
   "outputs": [],
   "source": [
    "def preprocess(txt):\n",
    "    txt = re.sub(r'[^\\w\\s]', '', txt) # remove all punctuation\n",
    "    txt = unicodedata.normalize('NFKC', txt) # standardizing japanese characters (全角 vs 半角)\n",
    "    return txt\n",
    "\n",
    "df['text'] = df['text'].apply(preprocess)\n"
   ]
  },
  {
   "cell_type": "code",
   "execution_count": 22,
   "id": "98ba630f",
   "metadata": {},
   "outputs": [
    {
     "data": {
      "text/plain": [
       "0    著者フレデリックアークム専門化学者ヨーロッパの主な芸術科学アカデミーおよび学会の会員緒言この...\n",
       "1    改丁序偉人の伝記というとナポレオンとかアレキサンドロスとかグラッドストーンというようなのばか...\n",
       "2    人間が石にたよるやうになつてもうよほど久しいことであるのにまだ根気よくそれをやつてゐる石にた...\n",
       "3    既に美育部を持つてゐる早稻田中學校が新に音樂會を興してその發會式をやらうとする其の日から又病...\n",
       "4    古い日記や手紙などをみんな燒いてしまつたのでこまかに時日をいへないがまだ若い中學教師であつた...\n",
       "Name: text, dtype: object"
      ]
     },
     "execution_count": 22,
     "metadata": {},
     "output_type": "execute_result"
    }
   ],
   "source": [
    "df['text'].head(5)"
   ]
  },
  {
   "cell_type": "code",
   "execution_count": 48,
   "id": "aa4cd355",
   "metadata": {},
   "outputs": [],
   "source": [
    "def is_all_english(text):\n",
    "    if bool(re.fullmatch(r'[A-Za-z\\s]+', text)): # all english\n",
    "        return True\n",
    "    else:\n",
    "        return False\n",
    "\n",
    "df['all_eng'] = df['text'].apply(is_all_english)"
   ]
  },
  {
   "cell_type": "code",
   "execution_count": 33,
   "id": "6c72e376",
   "metadata": {},
   "outputs": [
    {
     "data": {
      "text/html": [
       "<div>\n",
       "<style scoped>\n",
       "    .dataframe tbody tr th:only-of-type {\n",
       "        vertical-align: middle;\n",
       "    }\n",
       "\n",
       "    .dataframe tbody tr th {\n",
       "        vertical-align: top;\n",
       "    }\n",
       "\n",
       "    .dataframe thead th {\n",
       "        text-align: right;\n",
       "    }\n",
       "</style>\n",
       "<table border=\"1\" class=\"dataframe\">\n",
       "  <thead>\n",
       "    <tr style=\"text-align: right;\">\n",
       "      <th></th>\n",
       "      <th>id</th>\n",
       "      <th>char_count</th>\n",
       "      <th>text</th>\n",
       "      <th>all_eng</th>\n",
       "    </tr>\n",
       "  </thead>\n",
       "  <tbody>\n",
       "    <tr>\n",
       "      <th>1279</th>\n",
       "      <td>55213</td>\n",
       "      <td>87.0</td>\n",
       "      <td>UrbinonowakdokosowaedakuminoichitotatreLeonard...</td>\n",
       "      <td>True</td>\n",
       "    </tr>\n",
       "    <tr>\n",
       "      <th>1280</th>\n",
       "      <td>55214</td>\n",
       "      <td>81.0</td>\n",
       "      <td>KonataniwaAbruzzinoyamakanataPontininonumaGeij...</td>\n",
       "      <td>True</td>\n",
       "    </tr>\n",
       "    <tr>\n",
       "      <th>8178</th>\n",
       "      <td>54811</td>\n",
       "      <td>100.0</td>\n",
       "      <td>IshikoronomichiIshikoronomichiKaattohigasenawo...</td>\n",
       "      <td>True</td>\n",
       "    </tr>\n",
       "    <tr>\n",
       "      <th>17218</th>\n",
       "      <td>888</td>\n",
       "      <td>96.0</td>\n",
       "      <td>HowkindhowfairshewashowgoodIcannottellyouIfIco...</td>\n",
       "      <td>True</td>\n",
       "    </tr>\n",
       "  </tbody>\n",
       "</table>\n",
       "</div>"
      ],
      "text/plain": [
       "          id  char_count                                               text  \\\n",
       "1279   55213        87.0  UrbinonowakdokosowaedakuminoichitotatreLeonard...   \n",
       "1280   55214        81.0  KonataniwaAbruzzinoyamakanataPontininonumaGeij...   \n",
       "8178   54811       100.0  IshikoronomichiIshikoronomichiKaattohigasenawo...   \n",
       "17218    888        96.0  HowkindhowfairshewashowgoodIcannottellyouIfIco...   \n",
       "\n",
       "       all_eng  \n",
       "1279      True  \n",
       "1280      True  \n",
       "8178      True  \n",
       "17218     True  "
      ]
     },
     "execution_count": 33,
     "metadata": {},
     "output_type": "execute_result"
    }
   ],
   "source": [
    "df[df['all_eng']]"
   ]
  },
  {
   "cell_type": "code",
   "execution_count": 49,
   "id": "7104f644",
   "metadata": {},
   "outputs": [],
   "source": [
    "df = df[~df['all_eng']].reset_index(drop=True)\n",
    "\n",
    "df = df.drop(columns='all_eng')"
   ]
  },
  {
   "cell_type": "code",
   "execution_count": 65,
   "id": "4e27412a",
   "metadata": {},
   "outputs": [],
   "source": [
    "df['text'] = df['text'].astype(str)"
   ]
  },
  {
   "cell_type": "markdown",
   "id": "ed0e4c8d",
   "metadata": {},
   "source": [
    "#### Embedding"
   ]
  },
  {
   "cell_type": "code",
   "execution_count": 66,
   "id": "6459c482",
   "metadata": {},
   "outputs": [],
   "source": [
    "text = df['text'].sample(1000)"
   ]
  },
  {
   "cell_type": "code",
   "execution_count": 71,
   "id": "0f7fd884",
   "metadata": {},
   "outputs": [
    {
     "name": "stderr",
     "output_type": "stream",
     "text": [
      "Batches: 100%|██████████| 250/250 [02:46<00:00,  1.51it/s]\n"
     ]
    }
   ],
   "source": [
    "\n",
    "embedding_model = SentenceTransformer(\"intfloat/multilingual-e5-small\")\n",
    "\n",
    "emb = embedding_model.encode(text.values, batch_size=4, show_progress_bar=True)\n"
   ]
  },
  {
   "cell_type": "code",
   "execution_count": 72,
   "id": "73a33723",
   "metadata": {},
   "outputs": [
    {
     "data": {
      "text/plain": [
       "(1000, 384)"
      ]
     },
     "execution_count": 72,
     "metadata": {},
     "output_type": "execute_result"
    }
   ],
   "source": [
    "emb.shape"
   ]
  }
 ],
 "metadata": {
  "kernelspec": {
   "display_name": "env (3.13.2)",
   "language": "python",
   "name": "python3"
  },
  "language_info": {
   "codemirror_mode": {
    "name": "ipython",
    "version": 3
   },
   "file_extension": ".py",
   "mimetype": "text/x-python",
   "name": "python",
   "nbconvert_exporter": "python",
   "pygments_lexer": "ipython3",
   "version": "3.13.2"
  }
 },
 "nbformat": 4,
 "nbformat_minor": 5
}
