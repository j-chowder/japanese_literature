{
 "cells": [
  {
   "cell_type": "code",
   "execution_count": 1,
   "id": "8c451b99",
   "metadata": {},
   "outputs": [],
   "source": [
    "import wptools\n",
    "import pandas as pd\n",
    "import re\n",
    "import wikipedia"
   ]
  },
  {
   "cell_type": "code",
   "execution_count": 20,
   "id": "2cd30d52",
   "metadata": {},
   "outputs": [
    {
     "name": "stderr",
     "output_type": "stream",
     "text": [
      "ja.wikipedia.org (parse) 走れメロス\n",
      "走れメロス (ja) data\n",
      "{\n",
      "  iwlinks: <list(7)> https://de.wikipedia.org/wiki/Die_B%C3%BCrgsc...\n",
      "  pageid: 404413\n",
      "  parsetree: <str(55627)> <root><template><title>基礎情報 文学作品</title>...\n",
      "  requests: <list(1)> parse\n",
      "  title: 走れメロス\n",
      "  wikibase: Q194551\n",
      "  wikidata_url: https://www.wikidata.org/wiki/Q194551\n",
      "  wikitext: <str(22966)> {{基礎情報 文学作品| 題名 = 走れメロス| 作者 = [[太宰治]]| 国 ...\n",
      "}\n"
     ]
    }
   ],
   "source": [
    "y = wptools.page('走れメロス', lang='ja').get_parse() # 平井肇\n",
    "infobox = y.data['infobox']\n",
    "\n",
    "df = pd.DataFrame(infobox, index=[1])"
   ]
  },
  {
   "cell_type": "code",
   "execution_count": 5,
   "id": "8465e45b",
   "metadata": {},
   "outputs": [],
   "source": [
    "y = y.data['wikibase']"
   ]
  },
  {
   "cell_type": "code",
   "execution_count": 21,
   "id": "d0302d25",
   "metadata": {},
   "outputs": [
    {
     "name": "stderr",
     "output_type": "stream",
     "text": [
      "www.wikidata.org (wikidata) Q194551\n",
      "www.wikidata.org (labels) P31|Q7725634|P646|P577|P571|P7937|Q5232...\n",
      "Run, Melos! (en) data\n",
      "{\n",
      "  claims: <dict(21)> P50, P646, P31, P577, P136, P4969, P407, P495...\n",
      "  description: Japanese short story by Osamu Dazai\n",
      "  label: Run, Melos!\n",
      "  labels: <dict(30)> P31, Q7725634, P646, P577, P571, P7937, Q5232...\n",
      "  modified: <dict(1)> wikidata\n",
      "  requests: <list(2)> wikidata, labels\n",
      "  title: Run,_Melos!\n",
      "  what: literary work\n",
      "  wikibase: Q194551\n",
      "  wikidata: <dict(21)> author (P50), Freebase ID (P646), instance ...\n",
      "  wikidata_pageid: 192434\n",
      "  wikidata_url: https://www.wikidata.org/wiki/Q194551\n",
      "}\n"
     ]
    }
   ],
   "source": [
    "page = wptools.page(wikibase=y.data['wikibase'])\n",
    "\n",
    "a = page.get_wikidata()"
   ]
  },
  {
   "cell_type": "code",
   "execution_count": 25,
   "id": "d10dd01e",
   "metadata": {},
   "outputs": [
    {
     "data": {
      "text/plain": [
       "{'P31': 'instance of',\n",
       " 'Q7725634': 'literary work',\n",
       " 'P646': 'Freebase ID',\n",
       " 'P577': 'publication date',\n",
       " 'P571': 'inception',\n",
       " 'P7937': 'form of creative work',\n",
       " 'Q5232719': 'Hashire Melos!',\n",
       " 'P495': 'country of origin',\n",
       " 'Q897288': 'Die Bürgschaft',\n",
       " 'P11408': 'Pixiv Encyclopedia ID',\n",
       " 'P349': 'NDL Authority ID',\n",
       " 'P4969': 'derivative work',\n",
       " 'P214': 'VIAF cluster ID',\n",
       " 'P144': 'based on',\n",
       " 'Q17': 'Japan',\n",
       " 'P1922': 'first line',\n",
       " 'P8383': 'Goodreads work ID',\n",
       " 'P3132': 'last line',\n",
       " 'P6216': 'copyright status',\n",
       " 'P6900': 'NicoNicoPedia ID',\n",
       " 'Q56451354': \"children's fiction\",\n",
       " 'Q317685': 'Osamu Dazai',\n",
       " 'Q19652': 'public domain',\n",
       " 'P50': 'author',\n",
       " 'P7312': 'Aozora Bunko work ID',\n",
       " 'Q49084': 'short story',\n",
       " 'P136': 'genre',\n",
       " 'P1476': 'title',\n",
       " 'Q5287': 'Japanese',\n",
       " 'P407': 'language of work or name'}"
      ]
     },
     "execution_count": 25,
     "metadata": {},
     "output_type": "execute_result"
    }
   ],
   "source": [
    "a.data['labels']"
   ]
  },
  {
   "cell_type": "code",
   "execution_count": 263,
   "id": "b2aa0e46",
   "metadata": {},
   "outputs": [
    {
     "data": {
      "text/plain": [
       "'Prague'"
      ]
     },
     "execution_count": 263,
     "metadata": {},
     "output_type": "execute_result"
    }
   ],
   "source": [
    "a.data['labels'][a.data['claims']['P19'][0]]"
   ]
  },
  {
   "cell_type": "code",
   "execution_count": 267,
   "id": "c127ae09",
   "metadata": {},
   "outputs": [
    {
     "name": "stdout",
     "output_type": "stream",
     "text": [
      "+1883-07-03T00:00:00Z\n",
      "+1924-06-03T00:00:00Z\n"
     ]
    },
    {
     "data": {
      "text/plain": [
       "'Prague'"
      ]
     },
     "execution_count": 267,
     "metadata": {},
     "output_type": "execute_result"
    }
   ],
   "source": [
    "print(a.data['claims']['P569'][0]) # birth, \n",
    "print(a.data['claims']['P570'][0]) # death\n",
    "a.data['labels'][a.data['claims']['P19'][0]] # birthplace"
   ]
  },
  {
   "cell_type": "code",
   "execution_count": 240,
   "id": "05bc571b",
   "metadata": {},
   "outputs": [
    {
     "name": "stdout",
     "output_type": "stream",
     "text": [
      "female\n"
     ]
    }
   ],
   "source": [
    "if 'Q6581097' in a.data['labels']:\n",
    "    print('male')\n",
    "elif 'Q6581072' in a.data['labels']:\n",
    "    print('female')\n",
    "else:\n",
    "    print('unknown')"
   ]
  },
  {
   "cell_type": "code",
   "execution_count": 206,
   "id": "3acc10be",
   "metadata": {},
   "outputs": [
    {
     "data": {
      "text/plain": [
       "'Hiromi Kawakami (川上 弘美, Kawakami Hiromi; born 1958) is a Japanese writer known for her off-beat fiction, poetry, and literary criticism. She has won numerous Japanese literary awards, including the Akutagawa Prize, the Tanizaki Prize, the Yomiuri Prize, and the Izumi Kyōka Prize for Literature. Her work has been adapted for film, and has been translated into more than 15 languages.'"
      ]
     },
     "execution_count": 206,
     "metadata": {},
     "output_type": "execute_result"
    }
   ],
   "source": [
    "y"
   ]
  },
  {
   "cell_type": "code",
   "execution_count": 199,
   "id": "400d4908",
   "metadata": {},
   "outputs": [
    {
     "name": "stdout",
     "output_type": "stream",
     "text": [
      "\u001b[31mType:\u001b[39m           WPToolsPage\n",
      "\u001b[31mString form:\u001b[39m    <wptools.page.WPToolsPage object at 0x000001A257319950>\n",
      "\u001b[31mFile:\u001b[39m           d:\\pythondevelopment\\jap_lit\\env\\lib\\site-packages\\wptools\\page.py\n",
      "\u001b[31mDocstring:\u001b[39m      WPtools Page class, derived from wptools.core\n",
      "\u001b[31mInit docstring:\u001b[39m\n",
      "Returns a WPToolsPage object\n",
      "\n",
      "Gets a random title without arguments\n",
      "\n",
      "Optional positional {params}:\n",
      "- [title]: <str> Mediawiki page title, file, category, etc.\n",
      "\n",
      "Optional keyword {params}:\n",
      "- [boxterm]: <str> Infobox title name or substring\n",
      "- [endpoint]: <str> alternative API endpoint (default=/w/api.php)\n",
      "- [lang]: <str> Mediawiki language code (default=en)\n",
      "- [pageid]: <int> Mediawiki pageid\n",
      "- [variant]: <str> Mediawiki language variant\n",
      "- [wiki]: <str> alternative wiki site (default=wikipedia.org)\n",
      "- [wikibase]: <str> Wikidata database ID (e.g. 'Q1')\n",
      "\n",
      "Optional keyword {flags}:\n",
      "- [silent]: <bool> do not echo page data if True\n",
      "- [skip]: <list> skip actions in this list\n",
      "- [verbose]: <bool> verbose output to stderr if True"
     ]
    }
   ],
   "source": [
    "y?"
   ]
  },
  {
   "cell_type": "code",
   "execution_count": 244,
   "id": "aa4dc28a",
   "metadata": {},
   "outputs": [
    {
     "data": {
      "text/plain": [
       "('18 May 1048',\n",
       " '[[Nishapur]], [[Greater Khorasan|Khorasan]], [[Seljuk Empire]]',\n",
       " '4 December 1131 (aged 83)')"
      ]
     },
     "execution_count": 244,
     "metadata": {},
     "output_type": "execute_result"
    }
   ],
   "source": [
    "df.apply(lambda x: x.replace('[', \"\"))\n",
    "\n",
    "bd, bp, dd = df.loc[1, ['birth_date', 'birth_place', 'death_date']]\n",
    "\n",
    "bd, bp, dd\n"
   ]
  },
  {
   "cell_type": "code",
   "execution_count": 192,
   "id": "0b015a53",
   "metadata": {},
   "outputs": [],
   "source": [
    "bd = bd.replace('{', '', -1).replace('}', '', -1)\n",
    "bp = bp.replace('{', '', -1).replace('}', '', -1)\n",
    "dd = dd.replace('{', '', -1).replace('}', '', -1)\n",
    "\n"
   ]
  },
  {
   "cell_type": "code",
   "execution_count": 193,
   "id": "788c94bf",
   "metadata": {},
   "outputs": [
    {
     "data": {
      "text/plain": [
       "('birth date|1896|5|17',\n",
       " 'JPN [[岐阜県]]',\n",
       " 'death date and age|1946|7|7|1896|5|17')"
      ]
     },
     "execution_count": 193,
     "metadata": {},
     "output_type": "execute_result"
    }
   ],
   "source": [
    "bd, bp, dd"
   ]
  },
  {
   "cell_type": "code",
   "execution_count": 171,
   "id": "1109d188",
   "metadata": {},
   "outputs": [],
   "source": [
    "bd1, bp1, dd1 = bd, bp, dd"
   ]
  },
  {
   "cell_type": "code",
   "execution_count": 172,
   "id": "c8ec1e1a",
   "metadata": {},
   "outputs": [
    {
     "data": {
      "text/plain": [
       "'生年月日と年齢|1862|2|17|no'"
      ]
     },
     "execution_count": 172,
     "metadata": {},
     "output_type": "execute_result"
    }
   ],
   "source": [
    "bd1"
   ]
  },
  {
   "cell_type": "code",
   "execution_count": 173,
   "id": "79ad956b",
   "metadata": {},
   "outputs": [
    {
     "data": {
      "text/plain": [
       "2"
      ]
     },
     "execution_count": 173,
     "metadata": {},
     "output_type": "execute_result"
    }
   ],
   "source": [
    "bd1.index('月')"
   ]
  },
  {
   "cell_type": "code",
   "execution_count": 146,
   "id": "c7e5bc15",
   "metadata": {},
   "outputs": [
    {
     "data": {
      "text/plain": [
       "'1892-3-1'"
      ]
     },
     "execution_count": 146,
     "metadata": {},
     "output_type": "execute_result"
    }
   ],
   "source": [
    "bd = re.sub('年', '-', bd)\n",
    "bd = re.sub('月', '-', bd)\n",
    "bd = re.sub(r'[^0-9-]', '', bd)\n",
    "bd"
   ]
  },
  {
   "cell_type": "code",
   "execution_count": 194,
   "id": "ff0ebf2f",
   "metadata": {},
   "outputs": [
    {
     "data": {
      "text/plain": [
       "'1896-5-17'"
      ]
     },
     "execution_count": 194,
     "metadata": {},
     "output_type": "execute_result"
    }
   ],
   "source": [
    "bd = bd[bd.index('|') + 1:]\n",
    "bd = bd.replace('|', '-', -1)\n",
    "bd = re.sub(r'[^0-9-]', '', bd)\n",
    "\n",
    "bd"
   ]
  },
  {
   "cell_type": "code",
   "execution_count": 195,
   "id": "994962c0",
   "metadata": {},
   "outputs": [
    {
     "ename": "ValueError",
     "evalue": "substring not found",
     "output_type": "error",
     "traceback": [
      "\u001b[31m---------------------------------------------------------------------------\u001b[39m",
      "\u001b[31mValueError\u001b[39m                                Traceback (most recent call last)",
      "\u001b[36mCell\u001b[39m\u001b[36m \u001b[39m\u001b[32mIn[195]\u001b[39m\u001b[32m, line 1\u001b[39m\n\u001b[32m----> \u001b[39m\u001b[32m1\u001b[39m bp = bp[bp.index(\u001b[33m'\u001b[39m\u001b[33m[[\u001b[39m\u001b[33m'\u001b[39m, \u001b[43mbp\u001b[49m\u001b[43m.\u001b[49m\u001b[43mindex\u001b[49m\u001b[43m(\u001b[49m\u001b[33;43m'\u001b[39;49m\u001b[33;43m現\u001b[39;49m\u001b[33;43m'\u001b[39;49m\u001b[43m)\u001b[49m) + \u001b[32m2\u001b[39m:]\n\u001b[32m      3\u001b[39m bp = bp[\u001b[32m0\u001b[39m: bp.index(\u001b[33m'\u001b[39m\u001b[33m]\u001b[39m\u001b[33m'\u001b[39m)]\n\u001b[32m      5\u001b[39m bp\n",
      "\u001b[31mValueError\u001b[39m: substring not found"
     ]
    }
   ],
   "source": [
    "bp = bp[bp.index('[[', bp.index('現')) + 2:]\n",
    "\n",
    "bp = bp[0: bp.index(']')]\n",
    "\n",
    "bp"
   ]
  },
  {
   "cell_type": "code",
   "execution_count": 120,
   "id": "44e7a552",
   "metadata": {},
   "outputs": [],
   "source": [
    "dd = dd[::-1]\n",
    "dd = dd[0: dd.index('|', 7)]\n",
    "\n",
    "dd = dd[::-1]\n",
    "dd = dd.replace('|', '-')\n"
   ]
  },
  {
   "cell_type": "code",
   "execution_count": null,
   "id": "440942a0",
   "metadata": {},
   "outputs": [
    {
     "data": {
      "text/plain": [
       "'1927-7-24'"
      ]
     },
     "execution_count": 121,
     "metadata": {},
     "output_type": "execute_result"
    }
   ],
   "source": [
    "46,somevalue,,+0723-08-15T00:00:00Z,maledd"
   ]
  },
  {
   "cell_type": "code",
   "execution_count": 27,
   "id": "f4dc6a69",
   "metadata": {},
   "outputs": [],
   "source": [
    "df = pd.read_excel('./data/aozora.xlsx', 'books', usecols=['作品ID',\t'作品名',\t'作品名読み',\t'ソート用読み'])"
   ]
  },
  {
   "cell_type": "code",
   "execution_count": 28,
   "id": "29b87ef7",
   "metadata": {},
   "outputs": [
    {
     "data": {
      "text/html": [
       "<div>\n",
       "<style scoped>\n",
       "    .dataframe tbody tr th:only-of-type {\n",
       "        vertical-align: middle;\n",
       "    }\n",
       "\n",
       "    .dataframe tbody tr th {\n",
       "        vertical-align: top;\n",
       "    }\n",
       "\n",
       "    .dataframe thead th {\n",
       "        text-align: right;\n",
       "    }\n",
       "</style>\n",
       "<table border=\"1\" class=\"dataframe\">\n",
       "  <thead>\n",
       "    <tr style=\"text-align: right;\">\n",
       "      <th></th>\n",
       "      <th>作品ID</th>\n",
       "      <th>作品名</th>\n",
       "      <th>作品名読み</th>\n",
       "      <th>ソート用読み</th>\n",
       "    </tr>\n",
       "  </thead>\n",
       "  <tbody>\n",
       "    <tr>\n",
       "      <th>0</th>\n",
       "      <td>773</td>\n",
       "      <td>こころ</td>\n",
       "      <td>こころ</td>\n",
       "      <td>こころ</td>\n",
       "    </tr>\n",
       "    <tr>\n",
       "      <th>1</th>\n",
       "      <td>45630</td>\n",
       "      <td>〔雨ニモマケズ〕</td>\n",
       "      <td>〔あめニモマケズ〕</td>\n",
       "      <td>あめにもまけす</td>\n",
       "    </tr>\n",
       "    <tr>\n",
       "      <th>2</th>\n",
       "      <td>1567</td>\n",
       "      <td>走れメロス</td>\n",
       "      <td>はしれメロス</td>\n",
       "      <td>はしれめろす</td>\n",
       "    </tr>\n",
       "    <tr>\n",
       "      <th>3</th>\n",
       "      <td>789</td>\n",
       "      <td>吾輩は猫である</td>\n",
       "      <td>わがはいはねこである</td>\n",
       "      <td>わかはいはねこてある</td>\n",
       "    </tr>\n",
       "    <tr>\n",
       "      <th>4</th>\n",
       "      <td>624</td>\n",
       "      <td>山月記</td>\n",
       "      <td>さんげつき</td>\n",
       "      <td>さんけつき</td>\n",
       "    </tr>\n",
       "  </tbody>\n",
       "</table>\n",
       "</div>"
      ],
      "text/plain": [
       "    作品ID       作品名       作品名読み      ソート用読み\n",
       "0    773       こころ         こころ         こころ\n",
       "1  45630  〔雨ニモマケズ〕   〔あめニモマケズ〕     あめにもまけす\n",
       "2   1567     走れメロス      はしれメロス      はしれめろす\n",
       "3    789   吾輩は猫である  わがはいはねこである  わかはいはねこてある\n",
       "4    624       山月記       さんげつき       さんけつき"
      ]
     },
     "execution_count": 28,
     "metadata": {},
     "output_type": "execute_result"
    }
   ],
   "source": [
    "df.head()"
   ]
  },
  {
   "cell_type": "code",
   "execution_count": 30,
   "id": "7d6e1c07",
   "metadata": {},
   "outputs": [],
   "source": [
    "a = df.loc[1]"
   ]
  },
  {
   "cell_type": "code",
   "execution_count": null,
   "id": "92259a76",
   "metadata": {},
   "outputs": [
    {
     "ename": "TypeError",
     "evalue": "expected string or bytes-like object, got 'Series'",
     "output_type": "error",
     "traceback": [
      "\u001b[31m---------------------------------------------------------------------------\u001b[39m",
      "\u001b[31mTypeError\u001b[39m                                 Traceback (most recent call last)",
      "\u001b[36mCell\u001b[39m\u001b[36m \u001b[39m\u001b[32mIn[40]\u001b[39m\u001b[32m, line 6\u001b[39m\n\u001b[32m      1\u001b[39m \u001b[38;5;28;01mimport\u001b[39;00m\u001b[38;5;250m \u001b[39m\u001b[34;01mstring\u001b[39;00m\n\u001b[32m      4\u001b[39m regex = \u001b[33mf\u001b[39m\u001b[33m\"\u001b[39m\u001b[33m[\u001b[39m\u001b[38;5;132;01m{\u001b[39;00mre.escape(string.punctuation)\u001b[38;5;132;01m}\u001b[39;00m\u001b[33m]\u001b[39m\u001b[33m\"\u001b[39m\n\u001b[32m----> \u001b[39m\u001b[32m6\u001b[39m a = \u001b[43mre\u001b[49m\u001b[43m.\u001b[49m\u001b[43msub\u001b[49m\u001b[43m(\u001b[49m\u001b[43mregex\u001b[49m\u001b[43m,\u001b[49m\u001b[43m \u001b[49m\u001b[33;43m\"\u001b[39;49m\u001b[33;43m\"\u001b[39;49m\u001b[43m,\u001b[49m\u001b[43m \u001b[49m\u001b[43ma\u001b[49m\u001b[43m.\u001b[49m\u001b[43mapply\u001b[49m\u001b[43m(\u001b[49m\u001b[38;5;28;43;01mlambda\u001b[39;49;00m\u001b[43m \u001b[49m\u001b[43mx\u001b[49m\u001b[43m:\u001b[49m\u001b[43m \u001b[49m\u001b[43mx\u001b[49m\u001b[43m)\u001b[49m\u001b[43m)\u001b[49m\n",
      "\u001b[36mFile \u001b[39m\u001b[32m~\\AppData\\Local\\Programs\\Python\\Python313\\Lib\\re\\__init__.py:208\u001b[39m, in \u001b[36msub\u001b[39m\u001b[34m(pattern, repl, string, count, flags, *args)\u001b[39m\n\u001b[32m    202\u001b[39m     \u001b[38;5;28;01mimport\u001b[39;00m\u001b[38;5;250m \u001b[39m\u001b[34;01mwarnings\u001b[39;00m\n\u001b[32m    203\u001b[39m     warnings.warn(\n\u001b[32m    204\u001b[39m         \u001b[33m\"\u001b[39m\u001b[33m'\u001b[39m\u001b[33mcount\u001b[39m\u001b[33m'\u001b[39m\u001b[33m is passed as positional argument\u001b[39m\u001b[33m\"\u001b[39m,\n\u001b[32m    205\u001b[39m         \u001b[38;5;167;01mDeprecationWarning\u001b[39;00m, stacklevel=\u001b[32m2\u001b[39m\n\u001b[32m    206\u001b[39m     )\n\u001b[32m--> \u001b[39m\u001b[32m208\u001b[39m \u001b[38;5;28;01mreturn\u001b[39;00m \u001b[43m_compile\u001b[49m\u001b[43m(\u001b[49m\u001b[43mpattern\u001b[49m\u001b[43m,\u001b[49m\u001b[43m \u001b[49m\u001b[43mflags\u001b[49m\u001b[43m)\u001b[49m\u001b[43m.\u001b[49m\u001b[43msub\u001b[49m\u001b[43m(\u001b[49m\u001b[43mrepl\u001b[49m\u001b[43m,\u001b[49m\u001b[43m \u001b[49m\u001b[43mstring\u001b[49m\u001b[43m,\u001b[49m\u001b[43m \u001b[49m\u001b[43mcount\u001b[49m\u001b[43m)\u001b[49m\n",
      "\u001b[31mTypeError\u001b[39m: expected string or bytes-like object, got 'Series'"
     ]
    }
   ],
   "source": [
    "import string\n",
    "\n",
    "\n",
    "regex = f\"[{re.escape(string.punctuation)}]\"\n",
    "\n",
    "a = re.sub(regex, \"\", a.apply)"
   ]
  },
  {
   "cell_type": "code",
   "execution_count": 37,
   "id": "b3a6693c",
   "metadata": {},
   "outputs": [
    {
     "data": {
      "text/plain": [
       "作品ID          45630\n",
       "作品名        〔雨ニモマケズ〕\n",
       "作品名読み     〔あめニモマケズ〕\n",
       "ソート用読み      あめにもまけす\n",
       "Name: 1, dtype: object"
      ]
     },
     "execution_count": 37,
     "metadata": {},
     "output_type": "execute_result"
    }
   ],
   "source": [
    "a"
   ]
  },
  {
   "cell_type": "code",
   "execution_count": 41,
   "id": "b6a1beac",
   "metadata": {},
   "outputs": [
    {
     "data": {
      "text/plain": [
       "作品ID          47685\n",
       "作品名         神楽（その一）\n",
       "作品名読み     かぐら（そのいち）\n",
       "ソート用読み      かくらそのいち\n",
       "Name: 5067, dtype: object"
      ]
     },
     "execution_count": 41,
     "metadata": {},
     "output_type": "execute_result"
    }
   ],
   "source": [
    "df.loc[5067]"
   ]
  },
  {
   "cell_type": "code",
   "execution_count": null,
   "id": "60f840b6",
   "metadata": {},
   "outputs": [],
   "source": []
  }
 ],
 "metadata": {
  "kernelspec": {
   "display_name": "env (3.13.2)",
   "language": "python",
   "name": "python3"
  },
  "language_info": {
   "codemirror_mode": {
    "name": "ipython",
    "version": 3
   },
   "file_extension": ".py",
   "mimetype": "text/x-python",
   "name": "python",
   "nbconvert_exporter": "python",
   "pygments_lexer": "ipython3",
   "version": "3.13.2"
  }
 },
 "nbformat": 4,
 "nbformat_minor": 5
}
